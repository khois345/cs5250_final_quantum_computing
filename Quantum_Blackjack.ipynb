{
 "cells": [
  {
   "cell_type": "markdown",
   "id": "3762a745",
   "metadata": {},
   "source": [
    "# Quantum Blackjack - Qiskit\n",
    "This is a simple Blackjack game powered by quantum randomness using IBM's Qiskit framework."
   ]
  },
  {
   "cell_type": "markdown",
   "id": "1a3c90e2",
   "metadata": {},
   "source": [
    "## How Does Quantum Computing Work?\n",
    "**Classical computers** performs calculations and operations using **bits**: 0 or 1. \n",
    "**Quantum computers**, on the other hand, handle them using **qubits**, which can be in **superposition**: both 0 and 1 at the same time.\n",
    "- Due to its nature, quantum computers are **a lot faster** than traditional computers, but they also require **more energy** to execute an operation.\n",
    "- Qubits can also be **entangled**, meaning one affects the other.\n",
    "- When measured, a qubit 'collapses' to either 0 or 1.\n",
    "\n",
    "The difference between a classical bit is similar to a coin on the table where the result is either head or tail, while a qubit is like a spinning coin, having the value being both head and tail simutanenously."
   ]
  },
  {
   "cell_type": "markdown",
   "id": "23904488",
   "metadata": {},
   "source": [
    "## Before you start\n",
    "- Please make sure that you have **Python 3.10+** installed. Tested version: **Python 3.10.16**\n",
    "- Additionally, I requirement installing **Conda/Miniconda** for Python environment for this project. This is to make sure the newly install required packages won't mess up the base Python environment. Documents can be found here:\n",
    "\n",
    "    https://www.anaconda.com/docs/getting-started/miniconda/install#windows-installation"
   ]
  },
  {
   "cell_type": "markdown",
   "id": "e631a186",
   "metadata": {},
   "source": [
    "## Install required packages (must-do)"
   ]
  },
  {
   "cell_type": "code",
   "execution_count": 14,
   "id": "44b6a29c",
   "metadata": {},
   "outputs": [
    {
     "name": "stdout",
     "output_type": "stream",
     "text": [
      "/bin/bash: /home/khois345/miniconda3/lib/libtinfo.so.6: no version information available (required by /bin/bash)\n",
      "Requirement already satisfied: qiskit in /home/khois345/miniconda3/envs/quantumeEnv/lib/python3.10/site-packages (2.0.0)\n",
      "Requirement already satisfied: rustworkx>=0.15.0 in /home/khois345/miniconda3/envs/quantumeEnv/lib/python3.10/site-packages (from qiskit) (0.16.0)\n",
      "Requirement already satisfied: numpy<3,>=1.17 in /home/khois345/miniconda3/envs/quantumeEnv/lib/python3.10/site-packages (from qiskit) (2.2.5)\n",
      "Requirement already satisfied: scipy>=1.5 in /home/khois345/miniconda3/envs/quantumeEnv/lib/python3.10/site-packages (from qiskit) (1.15.3)\n",
      "Requirement already satisfied: sympy>=1.3 in /home/khois345/miniconda3/envs/quantumeEnv/lib/python3.10/site-packages (from qiskit) (1.14.0)\n",
      "Requirement already satisfied: dill>=0.3 in /home/khois345/miniconda3/envs/quantumeEnv/lib/python3.10/site-packages (from qiskit) (0.4.0)\n",
      "Requirement already satisfied: python-dateutil>=2.8.0 in /home/khois345/.local/lib/python3.10/site-packages (from qiskit) (2.9.0.post0)\n",
      "Requirement already satisfied: stevedore>=3.0.0 in /home/khois345/miniconda3/envs/quantumeEnv/lib/python3.10/site-packages (from qiskit) (5.4.1)\n",
      "Requirement already satisfied: typing-extensions in /home/khois345/miniconda3/envs/quantumeEnv/lib/python3.10/site-packages (from qiskit) (4.13.2)\n",
      "Requirement already satisfied: symengine<0.14,>=0.11 in /home/khois345/miniconda3/envs/quantumeEnv/lib/python3.10/site-packages (from qiskit) (0.13.0)\n",
      "Requirement already satisfied: six>=1.5 in /home/khois345/miniconda3/envs/quantumeEnv/lib/python3.10/site-packages (from python-dateutil>=2.8.0->qiskit) (1.17.0)\n",
      "Requirement already satisfied: pbr>=2.0.0 in /home/khois345/miniconda3/envs/quantumeEnv/lib/python3.10/site-packages (from stevedore>=3.0.0->qiskit) (6.1.1)\n",
      "Requirement already satisfied: setuptools in /home/khois345/miniconda3/envs/quantumeEnv/lib/python3.10/site-packages (from pbr>=2.0.0->stevedore>=3.0.0->qiskit) (78.1.1)\n",
      "Requirement already satisfied: mpmath<1.4,>=1.1.0 in /home/khois345/miniconda3/envs/quantumeEnv/lib/python3.10/site-packages (from sympy>=1.3->qiskit) (1.3.0)\n",
      "/bin/bash: /home/khois345/miniconda3/lib/libtinfo.so.6: no version information available (required by /bin/bash)\n",
      "Requirement already satisfied: qiskit-aer in /home/khois345/miniconda3/envs/quantumeEnv/lib/python3.10/site-packages (0.17.0)\n",
      "Requirement already satisfied: qiskit>=1.1.0 in /home/khois345/miniconda3/envs/quantumeEnv/lib/python3.10/site-packages (from qiskit-aer) (2.0.0)\n",
      "Requirement already satisfied: numpy>=1.16.3 in /home/khois345/miniconda3/envs/quantumeEnv/lib/python3.10/site-packages (from qiskit-aer) (2.2.5)\n",
      "Requirement already satisfied: scipy>=1.0 in /home/khois345/miniconda3/envs/quantumeEnv/lib/python3.10/site-packages (from qiskit-aer) (1.15.3)\n",
      "Requirement already satisfied: psutil>=5 in /home/khois345/.local/lib/python3.10/site-packages (from qiskit-aer) (7.0.0)\n",
      "Requirement already satisfied: rustworkx>=0.15.0 in /home/khois345/miniconda3/envs/quantumeEnv/lib/python3.10/site-packages (from qiskit>=1.1.0->qiskit-aer) (0.16.0)\n",
      "Requirement already satisfied: sympy>=1.3 in /home/khois345/miniconda3/envs/quantumeEnv/lib/python3.10/site-packages (from qiskit>=1.1.0->qiskit-aer) (1.14.0)\n",
      "Requirement already satisfied: dill>=0.3 in /home/khois345/miniconda3/envs/quantumeEnv/lib/python3.10/site-packages (from qiskit>=1.1.0->qiskit-aer) (0.4.0)\n",
      "Requirement already satisfied: python-dateutil>=2.8.0 in /home/khois345/.local/lib/python3.10/site-packages (from qiskit>=1.1.0->qiskit-aer) (2.9.0.post0)\n",
      "Requirement already satisfied: stevedore>=3.0.0 in /home/khois345/miniconda3/envs/quantumeEnv/lib/python3.10/site-packages (from qiskit>=1.1.0->qiskit-aer) (5.4.1)\n",
      "Requirement already satisfied: typing-extensions in /home/khois345/miniconda3/envs/quantumeEnv/lib/python3.10/site-packages (from qiskit>=1.1.0->qiskit-aer) (4.13.2)\n",
      "Requirement already satisfied: symengine<0.14,>=0.11 in /home/khois345/miniconda3/envs/quantumeEnv/lib/python3.10/site-packages (from qiskit>=1.1.0->qiskit-aer) (0.13.0)\n",
      "Requirement already satisfied: six>=1.5 in /home/khois345/miniconda3/envs/quantumeEnv/lib/python3.10/site-packages (from python-dateutil>=2.8.0->qiskit>=1.1.0->qiskit-aer) (1.17.0)\n",
      "Requirement already satisfied: pbr>=2.0.0 in /home/khois345/miniconda3/envs/quantumeEnv/lib/python3.10/site-packages (from stevedore>=3.0.0->qiskit>=1.1.0->qiskit-aer) (6.1.1)\n",
      "Requirement already satisfied: setuptools in /home/khois345/miniconda3/envs/quantumeEnv/lib/python3.10/site-packages (from pbr>=2.0.0->stevedore>=3.0.0->qiskit>=1.1.0->qiskit-aer) (78.1.1)\n",
      "Requirement already satisfied: mpmath<1.4,>=1.1.0 in /home/khois345/miniconda3/envs/quantumeEnv/lib/python3.10/site-packages (from sympy>=1.3->qiskit>=1.1.0->qiskit-aer) (1.3.0)\n"
     ]
    }
   ],
   "source": [
    "!pip install qiskit\n",
    "!pip install qiskit-aer"
   ]
  },
  {
   "cell_type": "markdown",
   "id": "fcc9951d",
   "metadata": {},
   "source": [
    "## Quantum Card Draw Function"
   ]
  },
  {
   "cell_type": "markdown",
   "id": "5f0c0df4",
   "metadata": {},
   "source": [
    "References used: \n",
    "- QuantumCircuit: https://docs.quantum.ibm.com/api/qiskit/circuit\n",
    "- measure_all: https://docs.quantum.ibm.com/guides/measure-qubits\n",
    "- Aer simulator: https://qiskit.github.io/qiskit-aer/tutorials/1_aersimulator.html\n",
    "- Python List: https://www.w3schools.com/python/python_lists.asp"
   ]
  },
  {
   "cell_type": "code",
   "execution_count": 15,
   "id": "8adc2fd7",
   "metadata": {},
   "outputs": [],
   "source": [
    "from qiskit import QuantumCircuit\n",
    "from qiskit_aer import AerSimulator\n",
    "\n",
    "def draw_card():\n",
    "    # Create a quantum circuit with 4 qubits\n",
    "    qc = QuantumCircuit(4)\n",
    "    qc.h(range(4))  # Apply Hadamard gate to put qubits in superposition\n",
    "    qc.measure_all()  # Measure all qubits\n",
    "\n",
    "    # Use the Aer simulator to execute the circuit\n",
    "    simulator = AerSimulator()\n",
    "    job = simulator.run(qc) \n",
    "    result = job.result() \n",
    "    counts = result.get_counts()\n",
    "\n",
    "    # Convert the measured binary string to an integer (1-10 for card values)\n",
    "    binaryResults = list(counts.keys())\n",
    "    binaryResult = binaryResults[0]\n",
    "    cardValue = int(binaryResult, 2) % 10 + 1\n",
    "    return cardValue"
   ]
  },
  {
   "cell_type": "markdown",
   "id": "d74b5cb9",
   "metadata": {},
   "source": [
    "## Quantum Blackjack Game"
   ]
  },
  {
   "cell_type": "code",
   "execution_count": 16,
   "id": "8ea5b3d0",
   "metadata": {},
   "outputs": [],
   "source": [
    "\n",
    "def play_blackjack():\n",
    "    print(\"Quantum Blackjack Starts!\")\n",
    "    \n",
    "    player = [draw_card(), draw_card()]\n",
    "    dealer = [draw_card(), draw_card()]\n",
    "\n",
    "    print(f\"You drew: {player} (total: {sum(player)})\")\n",
    "    print(f\"Dealer shows: [{dealer[0]}, ?]\")\n",
    "\n",
    "    while sum(player) < 21:\n",
    "        move = input(\"Hit or stand? (enter h or s): \").lower()\n",
    "        if move == 'h':\n",
    "            card = draw_card()\n",
    "            player.append(card)\n",
    "            print(f\"You drew {card}, total is now {sum(player)}\")\n",
    "            if sum(player) > 21:\n",
    "                print(\"Bust! You lose.\")\n",
    "                return\n",
    "        elif move == 's':\n",
    "            print(\"You chose to stand.\")\n",
    "            break\n",
    "        else:\n",
    "            print(\"Invalid input. Please enter 'h' to hit or 's' to stand.\")\n",
    "\n",
    "    print(f\"Dealer's cards: {dealer} (total: {sum(dealer)})\")\n",
    "    \n",
    "    # Dealer's turn: it must hit until total is 17 or more\n",
    "    while sum(dealer) < 17: \n",
    "        card = draw_card()\n",
    "        dealer.append(card)\n",
    "        print(f\"Dealer draws {card}, total: {sum(dealer)}\")\n",
    "    \n",
    "    playerTotal = sum(player)\n",
    "    dealerTotal = sum(dealer)\n",
    "    print(f\"\\nFinal Score — You: {playerTotal} | Dealer: {dealerTotal}\")\n",
    "    if dealerTotal > 21 or playerTotal > dealerTotal:\n",
    "        print(\"Congratulation.. You win!\")\n",
    "    elif dealerTotal == playerTotal:\n",
    "        print(\"It's a tie.\")\n",
    "    else:\n",
    "        print(\"You lose.. Better luck next time!\")\n"
   ]
  },
  {
   "cell_type": "markdown",
   "id": "f3377274",
   "metadata": {},
   "source": [
    "## Run the Game"
   ]
  },
  {
   "cell_type": "code",
   "execution_count": 17,
   "id": "b40f1ea0",
   "metadata": {},
   "outputs": [
    {
     "name": "stdout",
     "output_type": "stream",
     "text": [
      "Quantum Blackjack Starts!\n",
      "You drew: [3, 5] (total: 8)\n",
      "Dealer shows: [5, ?]\n"
     ]
    },
    {
     "name": "stdout",
     "output_type": "stream",
     "text": [
      "Invalid input. Please enter 'h' to hit or 's' to stand.\n",
      "You drew 5, total is now 13\n",
      "You drew 1, total is now 14\n",
      "You drew 6, total is now 20\n",
      "You drew 4, total is now 24\n",
      "Bust! You lose.\n"
     ]
    }
   ],
   "source": [
    "play_blackjack()"
   ]
  }
 ],
 "metadata": {
  "kernelspec": {
   "display_name": "quantumeEnv",
   "language": "python",
   "name": "python3"
  },
  "language_info": {
   "codemirror_mode": {
    "name": "ipython",
    "version": 3
   },
   "file_extension": ".py",
   "mimetype": "text/x-python",
   "name": "python",
   "nbconvert_exporter": "python",
   "pygments_lexer": "ipython3",
   "version": "3.10.16"
  }
 },
 "nbformat": 4,
 "nbformat_minor": 5
}
